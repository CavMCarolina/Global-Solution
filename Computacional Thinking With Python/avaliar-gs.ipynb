{
 "cells": [
  {
   "cell_type": "markdown",
   "metadata": {},
   "source": [
    "# Listas"
   ]
  },
  {
   "cell_type": "code",
   "execution_count": 21,
   "metadata": {},
   "outputs": [],
   "source": [
    "nomes = ['Flávio', 'Marta', 'Matheus', 'Luíza', 'Laura']\n",
    "senhas = ['1234', '4321', '1357', '2468', '0000']\n",
    "idades = ['12', '18', '15', '40', '21']"
   ]
  },
  {
   "cell_type": "code",
   "execution_count": 22,
   "metadata": {},
   "outputs": [],
   "source": [
    "medicos = ['Margaret', 'Catarina', 'Júlio', 'César', 'Paola', 'Felipe']"
   ]
  },
  {
   "cell_type": "markdown",
   "metadata": {},
   "source": [
    "# Funções"
   ]
  },
  {
   "cell_type": "code",
   "execution_count": 24,
   "metadata": {},
   "outputs": [],
   "source": [
    "def acao():\n",
    "    avaliar = input('Deseja avaliar algum médico?').lower()\n",
    "\n",
    "    a = 0\n",
    "    while a == 0:\n",
    "        if avaliar == 'sim':\n",
    "            print(f'Esses são todos os profissionais cadastrados no sistema: {medicos}')\n",
    "            escolha = input(\"Digite o nome do médico que deseja avaliar\")\n",
    "\n",
    "            if escolha not in medicos:\n",
    "                print('Não existe nenhum médico com esse nome cadastrado no nosso sistema.')\n",
    "            else:\n",
    "                input(f'Quantas estrelas você quer dar para esse profissional: {escolha}?')\n",
    "                print(\"Obrigado pela avaliação!\")\n",
    "                a = 1\n",
    "        else:\n",
    "            a = 1\n",
    "            print(\"Você foi desconectado. Até a próxima!\")"
   ]
  },
  {
   "cell_type": "code",
   "execution_count": 25,
   "metadata": {},
   "outputs": [],
   "source": [
    "def cadastro(nomes, senhas, idades):\n",
    "    nome = input(\"Qual seu nome? \")\n",
    "    senha = input(\"Crie uma senha: \")\n",
    "    idade = input(\"Idade: \")\n",
    "                  \n",
    "    nomes.append(nome)\n",
    "    senhas.append(senha)\n",
    "    idades.append(idade)\n",
    "    \n",
    "    print(f'Cadastro realizado com sucesso! Por favor, realize o login com essas informações: \\n Nome: {nome}, Senha: {senha}')\n",
    "    return nomes, senhas, idades"
   ]
  },
  {
   "cell_type": "code",
   "execution_count": 27,
   "metadata": {},
   "outputs": [],
   "source": [
    "def login(nomes, senhas):\n",
    "    nome = input(\"Digite seu nome: \")\n",
    "    senha = input(\"Digite sua senha: \") \n",
    "        \n",
    "    acesso = False\n",
    "    for i in range(len(nomes)):\n",
    "        if nome == nomes[i] and senha == senhas[i]:\n",
    "            print(\"Login realizado com sucesso!\")\n",
    "            acao()\n",
    "            acesso = True\n",
    "            break\n",
    "    if not acesso:\n",
    "        print('Nome ou senha inválidos. Por favor, tente novamente')\n",
    "        login(nomes,senhas)"
   ]
  },
  {
   "cell_type": "code",
   "execution_count": 29,
   "metadata": {},
   "outputs": [],
   "source": [
    "def entrada():\n",
    "    c = 0\n",
    "    while c != 1:\n",
    "        possui_cadastro = str(input(\"Já possui cadastro?\")).lower()\n",
    "        if possui_cadastro == 'sim':\n",
    "            login(nomes, senhas)\n",
    "            c = 1\n",
    "        elif possui_cadastro == 'não' or possui_cadastro == 'nao':\n",
    "            cadastro(nomes, senhas, idades)\n",
    "        else:\n",
    "            print(\"Por favor, responda somente com sim ou não.\")"
   ]
  },
  {
   "cell_type": "markdown",
   "metadata": {},
   "source": [
    "# Rode esse código para começar a aplicação:"
   ]
  },
  {
   "cell_type": "code",
   "execution_count": 31,
   "metadata": {},
   "outputs": [
    {
     "name": "stdout",
     "output_type": "stream",
     "text": [
      "Login realizado com sucesso!\n",
      "Esses são todos os profissionais cadastrados no sistema: ['Margaret', 'Catarina', 'Júlio', 'César', 'Paola', 'Felipe']\n",
      "Obrigado pela avaliação!\n"
     ]
    }
   ],
   "source": [
    "entrada()"
   ]
  }
 ],
 "metadata": {
  "kernelspec": {
   "display_name": "Python 3",
   "language": "python",
   "name": "python3"
  },
  "language_info": {
   "codemirror_mode": {
    "name": "ipython",
    "version": 3
   },
   "file_extension": ".py",
   "mimetype": "text/x-python",
   "name": "python",
   "nbconvert_exporter": "python",
   "pygments_lexer": "ipython3",
   "version": "3.11.6"
  }
 },
 "nbformat": 4,
 "nbformat_minor": 2
}
